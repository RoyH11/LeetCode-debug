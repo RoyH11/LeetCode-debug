{
 "cells": [
  {
   "cell_type": "code",
   "execution_count": 7,
   "id": "c198b557",
   "metadata": {},
   "outputs": [],
   "source": [
    "def ransomnote(mag, ransom): \n",
    "    # create dictionary\n",
    "    my_dict = {}\n",
    "\n",
    "    # populate dictionary from mag\n",
    "    for char in mag: \n",
    "        if char in my_dict:\n",
    "            my_dict[char] += 1\n",
    "        else: \n",
    "            my_dict[char] = 1\n",
    "\n",
    "    # check each letter in ransom\n",
    "    for char in ransom: \n",
    "        if char == ' ':\n",
    "            # ignore space counts\n",
    "            continue\n",
    "        \n",
    "        if char in my_dict:\n",
    "            # if the letter exists in my_dict: value --\n",
    "            # if value is negative: return false\n",
    "            my_dict[char] -= 1\n",
    "            \n",
    "            if my_dict[char] < 0: \n",
    "                return False\n",
    "        else: \n",
    "            # else (letter doesn't exist in my_dict): return false\n",
    "            return False\n",
    "\n",
    "\n",
    "    return True\n",
    "\n",
    "\n",
    "# 2 inputs: \n",
    "# mag: available letters\n",
    "# ransom: target \n",
    "# "
   ]
  },
  {
   "cell_type": "code",
   "execution_count": 9,
   "id": "5edd5fd7",
   "metadata": {},
   "outputs": [
    {
     "name": "stdout",
     "output_type": "stream",
     "text": [
      "False\n"
     ]
    }
   ],
   "source": [
    "print(ransomnote(\"Magabcabc\", \"abbccMm\"))"
   ]
  }
 ],
 "metadata": {
  "kernelspec": {
   "display_name": "leetcode-practice",
   "language": "python",
   "name": "python3"
  },
  "language_info": {
   "codemirror_mode": {
    "name": "ipython",
    "version": 3
   },
   "file_extension": ".py",
   "mimetype": "text/x-python",
   "name": "python",
   "nbconvert_exporter": "python",
   "pygments_lexer": "ipython3",
   "version": "3.11.13"
  }
 },
 "nbformat": 4,
 "nbformat_minor": 5
}
