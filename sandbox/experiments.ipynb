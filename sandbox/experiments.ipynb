{
 "cells": [
  {
   "cell_type": "code",
   "execution_count": 2,
   "metadata": {},
   "outputs": [
    {
     "name": "stdout",
     "output_type": "stream",
     "text": [
      "['This', 'is', 'a', 'sample', 'string']\n",
      "['This', 'is', 'a', 'sample', 'string']\n"
     ]
    }
   ],
   "source": [
    "import re\n",
    "string = \"This  is   a    sample string\"\n",
    "words = re.split(r\"\\s+\", string)\n",
    "print(words)\n",
    "# Output: ['This', 'is', 'a', 'sample', 'string']\n",
    "\n",
    "words = string.split()\n",
    "print(words)"
   ]
  },
  {
   "cell_type": "code",
   "execution_count": null,
   "metadata": {},
   "outputs": [
    {
     "ename": "NameError",
     "evalue": "name 'List' is not defined",
     "output_type": "error",
     "traceback": [
      "\u001b[1;31m---------------------------------------------------------------------------\u001b[0m",
      "\u001b[1;31mNameError\u001b[0m                                 Traceback (most recent call last)",
      "Cell \u001b[1;32mIn[1], line 1\u001b[0m\n\u001b[1;32m----> 1\u001b[0m \u001b[38;5;28;01mdef\u001b[39;00m\u001b[38;5;250m \u001b[39m\u001b[38;5;21mtest\u001b[39m(x: \u001b[38;5;28mint\u001b[39m, y: \u001b[38;5;28mint\u001b[39m) \u001b[38;5;241m-\u001b[39m\u001b[38;5;241m>\u001b[39m \u001b[43mList\u001b[49m[\u001b[38;5;28mint\u001b[39m]: \n\u001b[0;32m      2\u001b[0m     \u001b[38;5;28;01mreturn\u001b[39;00m \u001b[38;5;28mlist\u001b[39m(\u001b[38;5;28mrange\u001b[39m(x, y))\n\u001b[0;32m      4\u001b[0m \u001b[38;5;28mprint\u001b[39m(test(\u001b[38;5;241m3\u001b[39m,\u001b[38;5;241m12\u001b[39m))\n",
      "\u001b[1;31mNameError\u001b[0m: name 'List' is not defined"
     ]
    }
   ],
   "source": [
    "from typing import List, Dict\n",
    "\n",
    "def test(x: int, y: int) -> List[int]: \n",
    "    return list(range(x, y))\n",
    "\n",
    "print(test(3,12))"
   ]
  },
  {
   "cell_type": "code",
   "execution_count": 3,
   "metadata": {},
   "outputs": [
    {
     "name": "stdout",
     "output_type": "stream",
     "text": [
      "2\n",
      "3\n",
      "4\n"
     ]
    }
   ],
   "source": [
    "for i in range(2,5): \n",
    "    print(i)"
   ]
  },
  {
   "cell_type": "code",
   "execution_count": 10,
   "metadata": {},
   "outputs": [
    {
     "name": "stdout",
     "output_type": "stream",
     "text": [
      "[]\n"
     ]
    }
   ],
   "source": [
    "x = list(range(2,5))\n",
    "print(x[5:6])"
   ]
  },
  {
   "cell_type": "code",
   "execution_count": 1,
   "metadata": {},
   "outputs": [
    {
     "name": "stdout",
     "output_type": "stream",
     "text": [
      "True\n"
     ]
    }
   ],
   "source": [
    "import torch\n",
    "print(torch.cuda.is_available())  # Should print: True"
   ]
  },
  {
   "cell_type": "code",
   "execution_count": 3,
   "metadata": {},
   "outputs": [
    {
     "name": "stdout",
     "output_type": "stream",
     "text": [
      "<class 'list_reverseiterator'>\n",
      "<list_reverseiterator object at 0x000001E20F8CF040>\n",
      "<class 'str'>\n"
     ]
    }
   ],
   "source": [
    "result = ['1', '2', '3']\n",
    "result = reversed(result)\n",
    "print(type(result))\n",
    "print(result)\n",
    "result = ''.join(result)\n",
    "print(type(result))"
   ]
  },
  {
   "cell_type": "code",
   "execution_count": 6,
   "metadata": {},
   "outputs": [
    {
     "name": "stdout",
     "output_type": "stream",
     "text": [
      "1\n",
      "2\n",
      "3\n"
     ]
    }
   ],
   "source": [
    "x = 3\n",
    "for i in range(1, x+1): \n",
    "    print(i)"
   ]
  },
  {
   "cell_type": "code",
   "execution_count": 8,
   "metadata": {},
   "outputs": [
    {
     "name": "stdout",
     "output_type": "stream",
     "text": [
      "['apple,', 'banana', 'cherry.']\n"
     ]
    },
    {
     "data": {
      "text/plain": [
       "28"
      ]
     },
     "execution_count": 8,
     "metadata": {},
     "output_type": "execute_result"
    }
   ],
   "source": [
    "csv_line = \"     apple,  banana cherry. \"\n",
    "words = csv_line.split()\n",
    "print(words)  # ['apple', 'banana', 'cherry']\n",
    "len(csv_line)\n"
   ]
  },
  {
   "cell_type": "code",
   "execution_count": 20,
   "metadata": {},
   "outputs": [
    {
     "name": "stdout",
     "output_type": "stream",
     "text": [
      "PAHNAPLSIIGYIR\n"
     ]
    }
   ],
   "source": [
    "class Solution:\n",
    "    def convert(self, s: str, numRows: int) -> str:\n",
    "        if len(s) <= numRows: \n",
    "            return s\n",
    "        \n",
    "        characters = [c for c in s]\n",
    "        characters.reverse()\n",
    "        \n",
    "        columns = []\n",
    "        # start \n",
    "        while characters: \n",
    "            counter = 0\n",
    "            # start the zigzag\n",
    "            while counter < numRows-1 and characters: \n",
    "                column = [' '] * numRows\n",
    "\n",
    "                if counter == 0: \n",
    "                    # populate the complete row\n",
    "                    inner_counter = 0\n",
    "                    while inner_counter < numRows and characters: \n",
    "                        column[inner_counter] = characters.pop()\n",
    "                        inner_counter += 1\n",
    "                else: \n",
    "                    column[numRows - 1 - counter] = characters.pop()\n",
    "\n",
    "                # add column \n",
    "                columns.append(column)\n",
    "                counter += 1\n",
    "\n",
    "        \n",
    "        result = ''\n",
    "        for i in range(numRows): \n",
    "            for j in range(len(columns)): \n",
    "                if columns[j][i] != ' ': \n",
    "                    result += columns[j][i]\n",
    "\n",
    "        return result\n",
    "    \n",
    "\n",
    "sol = Solution()\n",
    "result = sol.convert(\"PAYPALISHIRING\", 3)\n",
    "print(result)"
   ]
  },
  {
   "cell_type": "code",
   "execution_count": 23,
   "metadata": {},
   "outputs": [
    {
     "name": "stdout",
     "output_type": "stream",
     "text": [
      "[21, 8, 7, 6, 5, 5, 4, 4, 3, 3, 1]\n"
     ]
    }
   ],
   "source": [
    "my_list = [1,3,4,5,6,7,8,5,4,3,21]\n",
    "my_list.sort(reverse=True)\n",
    "print(my_list)"
   ]
  },
  {
   "cell_type": "code",
   "execution_count": 28,
   "metadata": {},
   "outputs": [
    {
     "name": "stdout",
     "output_type": "stream",
     "text": [
      "[[-10, 5, 5], [-5, 0, 5], [-4, 2, 2], [-3, -2, 5], [-3, 1, 2], [-2, 0, 2]]\n"
     ]
    }
   ],
   "source": [
    "from typing import List \n",
    "\n",
    "class Solution:\n",
    "    def threeSum(self, nums: List[int]) -> List[List[int]]:\n",
    "        nums.sort()\n",
    "        results = []\n",
    "\n",
    "        for i in range(len(nums)-2): \n",
    "            if i == 0 or nums[i] != nums[i-1]:\n",
    "                # 2 pointers\n",
    "                j = i+1\n",
    "                k = len(nums) - 1 \n",
    "                while j < k: \n",
    "                    three_sum = nums[i] + nums[j] + nums[k]\n",
    "                    if three_sum < 0: \n",
    "                        j += 1\n",
    "                    elif three_sum > 0: \n",
    "                        k -= 1\n",
    "                    else: \n",
    "                        if (j == i+1 or nums[j] != nums[j-1]) and (k == len(nums)-1 or nums[k] != nums[k+1]): \n",
    "                            results.append([nums[i], nums[j], nums[k]])\n",
    "                            j += 1\n",
    "                            k -= 1\n",
    "                        else:   \n",
    "                            if j != i+1 and nums[j] == nums[j-1]: \n",
    "                                j += 1\n",
    "                            if k != len(nums)-1 and nums[k] == nums[k+1]: \n",
    "                                k -= 1\n",
    "                        \n",
    "\n",
    "        return results\n",
    "    \n",
    "sol = Solution()\n",
    "print(sol.threeSum([2,-3,0,-2,-5,-5,-4,1,2,-2,2,0,2,-4,5,5,-10]))"
   ]
  },
  {
   "cell_type": "code",
   "execution_count": 34,
   "metadata": {},
   "outputs": [
    {
     "name": "stdout",
     "output_type": "stream",
     "text": [
      "12\n",
      "2\n",
      "3\n"
     ]
    }
   ],
   "source": [
    "class Solution:\n",
    "    def minSubArrayLen(self, target: int, nums: List[int]) -> int:\n",
    "        min_length = len(nums) + 1\n",
    "        total = 0\n",
    "        start = 0\n",
    "\n",
    "        for end in range(len(nums)): \n",
    "            total += nums[end]\n",
    "\n",
    "            while start < end and (total - nums[start]) >= target:\n",
    "                total -= nums[start]\n",
    "                start += 1\n",
    "\n",
    "                if total >= target: \n",
    "                    min_length = min(min_length, (end - start + 1))\n",
    "\n",
    "        print(total)\n",
    "        print(start)\n",
    "        return 0 if min_length == len(nums) + 1 else min_length \n",
    "    \n",
    "sol = Solution()\n",
    "print(sol.minSubArrayLen(11, [1,2,3,4,5]))"
   ]
  },
  {
   "cell_type": "code",
   "execution_count": 57,
   "metadata": {},
   "outputs": [
    {
     "name": "stdout",
     "output_type": "stream",
     "text": [
      "0\n",
      "1\n"
     ]
    }
   ],
   "source": [
    "from bisect import bisect_right, bisect_left\n",
    "my_list = [1.5, 2.5, 3.5, 4.5]\n",
    "print(bisect_left(my_list, 1.5))\n",
    "print(bisect_right(my_list, 1.5))"
   ]
  },
  {
   "cell_type": "code",
   "execution_count": 58,
   "metadata": {},
   "outputs": [
    {
     "data": {
      "text/plain": [
       "3"
      ]
     },
     "execution_count": 58,
     "metadata": {},
     "output_type": "execute_result"
    }
   ],
   "source": [
    "my_set = set([1, 2, 3])\n",
    "len(my_set)"
   ]
  },
  {
   "cell_type": "code",
   "execution_count": 59,
   "metadata": {},
   "outputs": [
    {
     "name": "stdout",
     "output_type": "stream",
     "text": [
      "0\n",
      "3\n",
      "6\n"
     ]
    }
   ],
   "source": [
    "for i in range(0, 9, 3):\n",
    "    print(i)"
   ]
  },
  {
   "cell_type": "code",
   "execution_count": 60,
   "metadata": {},
   "outputs": [
    {
     "name": "stdout",
     "output_type": "stream",
     "text": [
      "hit\n",
      "hit\n",
      "hit\n",
      "hit\n",
      "hit\n",
      "hit\n",
      "hit\n",
      "hit\n",
      "hit\n"
     ]
    },
    {
     "data": {
      "text/plain": [
       "True"
      ]
     },
     "execution_count": 60,
     "metadata": {},
     "output_type": "execute_result"
    }
   ],
   "source": [
    "class Solution:\n",
    "    def isValidSudoku(self, board: List[List[str]]) -> bool:\n",
    "\n",
    "        # check whole line\n",
    "        for i in range(9):\n",
    "\n",
    "            # check horizontally \n",
    "            nums_1 = set()\n",
    "            # check vertically\n",
    "            nums_2 = set()\n",
    "\n",
    "            for j in range(9): \n",
    "\n",
    "                # left to right\n",
    "                if board[i][j] != '.': \n",
    "                    if board[i][j] not in nums_1:\n",
    "                        nums_1.add(board[i][j]) \n",
    "                    else: \n",
    "                        return False\n",
    "                    \n",
    "                # top to down \n",
    "                if board[j][i] != '.': \n",
    "                    if board[j][i] not in nums_2:\n",
    "                        nums_2.add(board[j][i]) \n",
    "                    else: \n",
    "                        return False\n",
    "\n",
    "                # check 3 by 3  \n",
    "                if i % 3 == 0 and j % 3 == 0: \n",
    "                    print(\"hit\")\n",
    "                    nums = set()\n",
    "\n",
    "                    # check cube\n",
    "                    for x in range(i, i+3): \n",
    "                        for y in range(j, j+3): \n",
    "\n",
    "                            if board[x][y] != '.':\n",
    "                                if board[x][y] not in nums: \n",
    "                                    nums.add(board[x][y])\n",
    "                                else: \n",
    "                                    return False\n",
    "        \n",
    "        return True\n",
    "    \n",
    "sol = Solution()\n",
    "sol.isValidSudoku([[\"5\",\"3\",\".\",\".\",\"7\",\".\",\".\",\".\",\".\"],[\"6\",\".\",\".\",\"1\",\"9\",\"5\",\".\",\".\",\".\"],[\".\",\"9\",\"8\",\".\",\".\",\".\",\".\",\"6\",\".\"],[\"8\",\".\",\".\",\".\",\"6\",\".\",\".\",\".\",\"3\"],[\"4\",\".\",\".\",\"8\",\".\",\"3\",\".\",\".\",\"1\"],[\"7\",\".\",\".\",\".\",\"2\",\".\",\".\",\".\",\"6\"],[\".\",\"6\",\".\",\".\",\".\",\".\",\"2\",\"8\",\".\"],[\".\",\".\",\".\",\"4\",\"1\",\"9\",\".\",\".\",\"5\"],[\".\",\".\",\".\",\".\",\"8\",\".\",\".\",\"7\",\"9\"]])"
   ]
  },
  {
   "cell_type": "code",
   "execution_count": null,
   "metadata": {},
   "outputs": [
    {
     "ename": "TypeError",
     "evalue": "unsupported operand type(s) for /: 'str' and 'str'",
     "output_type": "error",
     "traceback": [
      "\u001b[0;31m---------------------------------------------------------------------------\u001b[0m",
      "\u001b[0;31mTypeError\u001b[0m                                 Traceback (most recent call last)",
      "Cell \u001b[0;32mIn[66], line 3\u001b[0m\n\u001b[1;32m      1\u001b[0m string_1 \u001b[38;5;241m=\u001b[39m \u001b[38;5;124m'\u001b[39m\u001b[38;5;124mi love you\u001b[39m\u001b[38;5;124m'\u001b[39m\n\u001b[1;32m      2\u001b[0m string_2 \u001b[38;5;241m=\u001b[39m string_1 \u001b[38;5;241m*\u001b[39m \u001b[38;5;241m3\u001b[39m\n\u001b[0;32m----> 3\u001b[0m \u001b[38;5;28mprint\u001b[39m(\u001b[43mstring_2\u001b[49m\u001b[38;5;241;43m/\u001b[39;49m\u001b[43mstring_1\u001b[49m)\n",
      "\u001b[0;31mTypeError\u001b[0m: unsupported operand type(s) for /: 'str' and 'str'"
     ]
    }
   ],
   "source": [
    "string_1 = 'i love you'\n",
    "string_2 = string_1 * 3\n"
   ]
  },
  {
   "cell_type": "code",
   "execution_count": 67,
   "metadata": {},
   "outputs": [
    {
     "name": "stdout",
     "output_type": "stream",
     "text": [
      "True\n"
     ]
    }
   ],
   "source": [
    "vowels = 'aeiou'\n",
    "print('a' in vowels)"
   ]
  },
  {
   "cell_type": "code",
   "execution_count": 69,
   "metadata": {},
   "outputs": [
    {
     "name": "stdout",
     "output_type": "stream",
     "text": [
      "True\n"
     ]
    }
   ],
   "source": [
    "max_avg = float('-inf')\n",
    "print(max_avg<0)"
   ]
  },
  {
   "cell_type": "code",
   "execution_count": 73,
   "metadata": {},
   "outputs": [
    {
     "name": "stdout",
     "output_type": "stream",
     "text": [
      "5.333333333333333\n"
     ]
    }
   ],
   "source": [
    "class Solution:\n",
    "    def findMaxAverage(self, nums: List[int], k: int) -> float:\n",
    "        max_avg = float('-inf')\n",
    "        total = 0\n",
    "        for i in range(len(nums)): \n",
    "            total += nums[i]\n",
    "            if i >= k: \n",
    "                total -= nums[i-k]\n",
    "            if i >= k-1 or i == len(nums)-1:\n",
    "                max_avg = max(max_avg, total)\n",
    "        return max_avg/k\n",
    "    \n",
    "sol = Solution()\n",
    "print(sol.findMaxAverage([9,7,3,5,6,2,0,8,1,9], 6))"
   ]
  },
  {
   "cell_type": "code",
   "execution_count": 1,
   "metadata": {},
   "outputs": [
    {
     "name": "stdout",
     "output_type": "stream",
     "text": [
      "True\n"
     ]
    }
   ],
   "source": [
    "x = None\n",
    "print(not x)"
   ]
  },
  {
   "cell_type": "code",
   "execution_count": 1,
   "metadata": {},
   "outputs": [],
   "source": [
    "seq = []\n",
    "if seq: \n",
    "    print('sss')"
   ]
  },
  {
   "cell_type": "code",
   "execution_count": 2,
   "metadata": {},
   "outputs": [
    {
     "name": "stdout",
     "output_type": "stream",
     "text": [
      "w\n",
      "h\n",
      "a\n",
      "t\n",
      " \n",
      "i\n",
      "s\n",
      " \n",
      "u\n",
      "p\n"
     ]
    }
   ],
   "source": [
    "a = 'what is up'\n",
    "for i in range(len(a)): \n",
    "    print(a[i])"
   ]
  },
  {
   "cell_type": "code",
   "execution_count": 3,
   "metadata": {},
   "outputs": [
    {
     "name": "stdout",
     "output_type": "stream",
     "text": [
      "True\n"
     ]
    }
   ],
   "source": [
    "a = set('abc')\n",
    "b = set('cba')\n",
    "if a == b: \n",
    "    print(True)"
   ]
  },
  {
   "cell_type": "code",
   "execution_count": 8,
   "metadata": {},
   "outputs": [
    {
     "name": "stdout",
     "output_type": "stream",
     "text": [
      "[1, 7, 6]\n",
      "[3, 2, 1]\n"
     ]
    }
   ],
   "source": [
    "grid = [[3,2,1],[1,7,6],[2,7,7]]\n",
    "print(grid[1][:])\n",
    "print(grid[:][0])"
   ]
  },
  {
   "cell_type": "code",
   "execution_count": 9,
   "metadata": {},
   "outputs": [
    {
     "name": "stdout",
     "output_type": "stream",
     "text": [
      "3\n"
     ]
    }
   ],
   "source": [
    "a = -3\n",
    "print(-a)"
   ]
  },
  {
   "cell_type": "code",
   "execution_count": 20,
   "metadata": {},
   "outputs": [
    {
     "name": "stdout",
     "output_type": "stream",
     "text": [
      "\n",
      "\n"
     ]
    }
   ],
   "source": [
    "a = \"\"\n",
    "print(a*3)\n",
    "print(3*a)\n",
    "from collections import deque\n",
    "queue = deque(a)\n",
    "if queue: \n",
    "    print(True)"
   ]
  },
  {
   "cell_type": "code",
   "execution_count": 1,
   "metadata": {},
   "outputs": [
    {
     "name": "stdout",
     "output_type": "stream",
     "text": [
      "3\n"
     ]
    }
   ],
   "source": [
    "def a(x): \n",
    "    x += 1\n",
    "\n",
    "y = 3\n",
    "a(y)\n",
    "\n",
    "print(y)"
   ]
  },
  {
   "cell_type": "code",
   "execution_count": 3,
   "metadata": {},
   "outputs": [
    {
     "name": "stdout",
     "output_type": "stream",
     "text": [
      "True\n"
     ]
    }
   ],
   "source": [
    "print('s' != None)"
   ]
  },
  {
   "cell_type": "code",
   "execution_count": 1,
   "metadata": {},
   "outputs": [
    {
     "name": "stdout",
     "output_type": "stream",
     "text": [
      "[1, 2, 3]\n",
      "[]\n"
     ]
    }
   ],
   "source": [
    "next_level = [1,2,3]\n",
    "curr_level = next_level\n",
    "next_level = []\n",
    "print(curr_level)\n",
    "print(next_level)"
   ]
  },
  {
   "cell_type": "code",
   "execution_count": 4,
   "metadata": {},
   "outputs": [
    {
     "name": "stdout",
     "output_type": "stream",
     "text": [
      "{1, 3, 5}\n"
     ]
    }
   ],
   "source": [
    "a = [1, 3, 5, 1]\n",
    "keys = set(a)\n",
    "print(keys)"
   ]
  }
 ],
 "metadata": {
  "kernelspec": {
   "display_name": "react-sandbox-dev",
   "language": "python",
   "name": "python3"
  },
  "language_info": {
   "codemirror_mode": {
    "name": "ipython",
    "version": 3
   },
   "file_extension": ".py",
   "mimetype": "text/x-python",
   "name": "python",
   "nbconvert_exporter": "python",
   "pygments_lexer": "ipython3",
   "version": "3.9.21"
  }
 },
 "nbformat": 4,
 "nbformat_minor": 2
}
