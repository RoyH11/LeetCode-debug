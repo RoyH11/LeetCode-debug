{
 "cells": [
  {
   "cell_type": "code",
   "execution_count": 2,
   "metadata": {},
   "outputs": [
    {
     "name": "stdout",
     "output_type": "stream",
     "text": [
      "['This', 'is', 'a', 'sample', 'string']\n",
      "['This', 'is', 'a', 'sample', 'string']\n"
     ]
    }
   ],
   "source": [
    "import re\n",
    "string = \"This  is   a    sample string\"\n",
    "words = re.split(r\"\\s+\", string)\n",
    "print(words)\n",
    "# Output: ['This', 'is', 'a', 'sample', 'string']\n",
    "\n",
    "words = string.split()\n",
    "print(words)"
   ]
  },
  {
   "cell_type": "code",
   "execution_count": null,
   "metadata": {},
   "outputs": [
    {
     "ename": "NameError",
     "evalue": "name 'List' is not defined",
     "output_type": "error",
     "traceback": [
      "\u001b[1;31m---------------------------------------------------------------------------\u001b[0m",
      "\u001b[1;31mNameError\u001b[0m                                 Traceback (most recent call last)",
      "Cell \u001b[1;32mIn[1], line 1\u001b[0m\n\u001b[1;32m----> 1\u001b[0m \u001b[38;5;28;01mdef\u001b[39;00m\u001b[38;5;250m \u001b[39m\u001b[38;5;21mtest\u001b[39m(x: \u001b[38;5;28mint\u001b[39m, y: \u001b[38;5;28mint\u001b[39m) \u001b[38;5;241m-\u001b[39m\u001b[38;5;241m>\u001b[39m \u001b[43mList\u001b[49m[\u001b[38;5;28mint\u001b[39m]: \n\u001b[0;32m      2\u001b[0m     \u001b[38;5;28;01mreturn\u001b[39;00m \u001b[38;5;28mlist\u001b[39m(\u001b[38;5;28mrange\u001b[39m(x, y))\n\u001b[0;32m      4\u001b[0m \u001b[38;5;28mprint\u001b[39m(test(\u001b[38;5;241m3\u001b[39m,\u001b[38;5;241m12\u001b[39m))\n",
      "\u001b[1;31mNameError\u001b[0m: name 'List' is not defined"
     ]
    }
   ],
   "source": [
    "from typing import List, Dict\n",
    "\n",
    "def test(x: int, y: int) -> List[int]: \n",
    "    return list(range(x, y))\n",
    "\n",
    "print(test(3,12))"
   ]
  },
  {
   "cell_type": "code",
   "execution_count": 3,
   "metadata": {},
   "outputs": [
    {
     "name": "stdout",
     "output_type": "stream",
     "text": [
      "2\n",
      "3\n",
      "4\n"
     ]
    }
   ],
   "source": [
    "for i in range(2,5): \n",
    "    print(i)"
   ]
  },
  {
   "cell_type": "code",
   "execution_count": 10,
   "metadata": {},
   "outputs": [
    {
     "name": "stdout",
     "output_type": "stream",
     "text": [
      "[]\n"
     ]
    }
   ],
   "source": [
    "x = list(range(2,5))\n",
    "print(x[5:6])"
   ]
  },
  {
   "cell_type": "code",
   "execution_count": 1,
   "metadata": {},
   "outputs": [
    {
     "name": "stdout",
     "output_type": "stream",
     "text": [
      "True\n"
     ]
    }
   ],
   "source": [
    "import torch\n",
    "print(torch.cuda.is_available())  # Should print: True"
   ]
  },
  {
   "cell_type": "code",
   "execution_count": 3,
   "metadata": {},
   "outputs": [
    {
     "name": "stdout",
     "output_type": "stream",
     "text": [
      "<class 'list_reverseiterator'>\n",
      "<list_reverseiterator object at 0x000001E20F8CF040>\n",
      "<class 'str'>\n"
     ]
    }
   ],
   "source": [
    "result = ['1', '2', '3']\n",
    "result = reversed(result)\n",
    "print(type(result))\n",
    "print(result)\n",
    "result = ''.join(result)\n",
    "print(type(result))"
   ]
  },
  {
   "cell_type": "code",
   "execution_count": 6,
   "metadata": {},
   "outputs": [
    {
     "name": "stdout",
     "output_type": "stream",
     "text": [
      "1\n",
      "2\n",
      "3\n"
     ]
    }
   ],
   "source": [
    "x = 3\n",
    "for i in range(1, x+1): \n",
    "    print(i)"
   ]
  },
  {
   "cell_type": "code",
   "execution_count": 8,
   "metadata": {},
   "outputs": [
    {
     "name": "stdout",
     "output_type": "stream",
     "text": [
      "['apple,', 'banana', 'cherry.']\n"
     ]
    },
    {
     "data": {
      "text/plain": [
       "28"
      ]
     },
     "execution_count": 8,
     "metadata": {},
     "output_type": "execute_result"
    }
   ],
   "source": [
    "csv_line = \"     apple,  banana cherry. \"\n",
    "words = csv_line.split()\n",
    "print(words)  # ['apple', 'banana', 'cherry']\n",
    "len(csv_line)\n"
   ]
  },
  {
   "cell_type": "code",
   "execution_count": 20,
   "metadata": {},
   "outputs": [
    {
     "name": "stdout",
     "output_type": "stream",
     "text": [
      "PAHNAPLSIIGYIR\n"
     ]
    }
   ],
   "source": [
    "class Solution:\n",
    "    def convert(self, s: str, numRows: int) -> str:\n",
    "        if len(s) <= numRows: \n",
    "            return s\n",
    "        \n",
    "        characters = [c for c in s]\n",
    "        characters.reverse()\n",
    "        \n",
    "        columns = []\n",
    "        # start \n",
    "        while characters: \n",
    "            counter = 0\n",
    "            # start the zigzag\n",
    "            while counter < numRows-1 and characters: \n",
    "                column = [' '] * numRows\n",
    "\n",
    "                if counter == 0: \n",
    "                    # populate the complete row\n",
    "                    inner_counter = 0\n",
    "                    while inner_counter < numRows and characters: \n",
    "                        column[inner_counter] = characters.pop()\n",
    "                        inner_counter += 1\n",
    "                else: \n",
    "                    column[numRows - 1 - counter] = characters.pop()\n",
    "\n",
    "                # add column \n",
    "                columns.append(column)\n",
    "                counter += 1\n",
    "\n",
    "        \n",
    "        result = ''\n",
    "        for i in range(numRows): \n",
    "            for j in range(len(columns)): \n",
    "                if columns[j][i] != ' ': \n",
    "                    result += columns[j][i]\n",
    "\n",
    "        return result\n",
    "    \n",
    "\n",
    "sol = Solution()\n",
    "result = sol.convert(\"PAYPALISHIRING\", 3)\n",
    "print(result)"
   ]
  }
 ],
 "metadata": {
  "kernelspec": {
   "display_name": "react-sandbox-dev",
   "language": "python",
   "name": "python3"
  },
  "language_info": {
   "codemirror_mode": {
    "name": "ipython",
    "version": 3
   },
   "file_extension": ".py",
   "mimetype": "text/x-python",
   "name": "python",
   "nbconvert_exporter": "python",
   "pygments_lexer": "ipython3",
   "version": "3.9.21"
  }
 },
 "nbformat": 4,
 "nbformat_minor": 2
}
