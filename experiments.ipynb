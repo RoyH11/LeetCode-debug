{
 "cells": [
  {
   "cell_type": "code",
   "execution_count": 2,
   "metadata": {},
   "outputs": [
    {
     "name": "stdout",
     "output_type": "stream",
     "text": [
      "['This', 'is', 'a', 'sample', 'string']\n",
      "['This', 'is', 'a', 'sample', 'string']\n"
     ]
    }
   ],
   "source": [
    "import re\n",
    "string = \"This  is   a    sample string\"\n",
    "words = re.split(r\"\\s+\", string)\n",
    "print(words)\n",
    "# Output: ['This', 'is', 'a', 'sample', 'string']\n",
    "\n",
    "words = string.split()\n",
    "print(words)"
   ]
  }
 ],
 "metadata": {
  "kernelspec": {
   "display_name": "resume-dev",
   "language": "python",
   "name": "python3"
  },
  "language_info": {
   "codemirror_mode": {
    "name": "ipython",
    "version": 3
   },
   "file_extension": ".py",
   "mimetype": "text/x-python",
   "name": "python",
   "nbconvert_exporter": "python",
   "pygments_lexer": "ipython3",
   "version": "3.9.21"
  }
 },
 "nbformat": 4,
 "nbformat_minor": 2
}
